{
 "cells": [
  {
   "cell_type": "code",
   "execution_count": null,
   "metadata": {},
   "outputs": [],
   "source": [
    "def odd_numbers():\n",
    "    odd = 0\n",
    "    for i in range(20):\n",
    "        if i % 2 != 0:\n",
    "            odd += 1\n",
    "    return odd"
   ]
  }
 ],
 "metadata": {
  "language_info": {
   "name": "python"
  },
  "orig_nbformat": 4
 },
 "nbformat": 4,
 "nbformat_minor": 2
}
