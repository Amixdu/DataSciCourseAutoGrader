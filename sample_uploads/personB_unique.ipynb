{
 "cells": [
  {
   "cell_type": "code",
   "execution_count": null,
   "metadata": {},
   "outputs": [],
   "source": [
    "def unique(lists): \n",
    "    new_list = [] \n",
    "    for i in range(len(lists)): \n",
    "        if lists[i] not in new_list: \n",
    "            new_list.append(lists[i]) \n",
    "    return new_list"
   ]
  }
 ],
 "metadata": {
  "language_info": {
   "name": "python"
  },
  "orig_nbformat": 4
 },
 "nbformat": 4,
 "nbformat_minor": 2
}
