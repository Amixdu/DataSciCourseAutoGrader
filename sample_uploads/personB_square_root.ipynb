{
 "cells": [
  {
   "cell_type": "code",
   "execution_count": null,
   "metadata": {},
   "outputs": [],
   "source": [
    "import math  \n",
    "def square_root(lists): \n",
    "    new_list = [] \n",
    "    for i in range(len(lists)): \n",
    "        new_list.append(math.sqrt(lists[i])) \n",
    "    return new_list "
   ]
  }
 ],
 "metadata": {
  "language_info": {
   "name": "python"
  },
  "orig_nbformat": 4
 },
 "nbformat": 4,
 "nbformat_minor": 2
}
