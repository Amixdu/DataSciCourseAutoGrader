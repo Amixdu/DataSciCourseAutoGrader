{
 "cells": [
  {
   "cell_type": "code",
   "execution_count": null,
   "metadata": {},
   "outputs": [],
   "source": [
    "def even_numbers(tuples):  \n",
    "    new_list = [] \n",
    "    for i in range(len(tuples)): \n",
    "        if tuples[i] % 2 == 0: \n",
    "            new_list.append(tuples[i]) \n",
    "    return new_list \n"
   ]
  }
 ],
 "metadata": {
  "language_info": {
   "name": "python"
  },
  "orig_nbformat": 4
 },
 "nbformat": 4,
 "nbformat_minor": 2
}
