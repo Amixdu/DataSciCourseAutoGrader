{
 "cells": [
  {
   "cell_type": "code",
   "execution_count": null,
   "metadata": {},
   "outputs": [],
   "source": [
    "def sums(lists): \n",
    "    count = 0 \n",
    "    for i in range(len(lists)): \n",
    "        count += lists[i] \n",
    "    return count "
   ]
  }
 ],
 "metadata": {
  "language_info": {
   "name": "python"
  },
  "orig_nbformat": 4
 },
 "nbformat": 4,
 "nbformat_minor": 2
}
