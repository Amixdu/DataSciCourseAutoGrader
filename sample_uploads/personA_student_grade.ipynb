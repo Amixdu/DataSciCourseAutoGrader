{
 "cells": [
  {
   "cell_type": "code",
   "execution_count": null,
   "metadata": {},
   "outputs": [],
   "source": [
    "def student_grade(x):\n",
    "    if x >= 0 and x < 50:\n",
    "        print(\"F\")\n",
    "    elif x >= 50 and x < 60:\n",
    "        print(\"D\")\n",
    "    elif x >= 60 and x < 70:\n",
    "        print(\"C\")\n",
    "    elif x >= 70 and x < 80:\n",
    "        print(\"B\")\n",
    "    elif x >= 80 and x < 90:\n",
    "        print(\"A\")\n",
    "    elif x >= 90 and x <= 100:\n",
    "        print(\"A*\")\n",
    "    else:\n",
    "        print(\"N\")"
   ]
  }
 ],
 "metadata": {
  "language_info": {
   "name": "python"
  },
  "orig_nbformat": 4
 },
 "nbformat": 4,
 "nbformat_minor": 2
}
