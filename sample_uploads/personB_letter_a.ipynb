{
 "cells": [
  {
   "cell_type": "code",
   "execution_count": null,
   "metadata": {},
   "outputs": [],
   "source": [
    "def letter_a(tuples):\n",
    "    for i in range(len(tuples)):\n",
    "        if 'a' in tuples[i]:\n",
    "            print(tuples[i])"
   ]
  }
 ],
 "metadata": {
  "language_info": {
   "name": "python"
  },
  "orig_nbformat": 4
 },
 "nbformat": 4,
 "nbformat_minor": 2
}
