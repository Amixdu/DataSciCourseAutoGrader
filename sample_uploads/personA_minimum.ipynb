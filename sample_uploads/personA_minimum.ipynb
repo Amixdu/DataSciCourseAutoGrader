{
 "cells": [
  {
   "cell_type": "code",
   "execution_count": null,
   "metadata": {},
   "outputs": [],
   "source": [
    "def minimum(lists): \n",
    "    minimum = lists[0] \n",
    "    for i in range(1, len(lists)): \n",
    "        if lists[i] < minimum: \n",
    "            minimum = lists[i] \n",
    "    return minimum "
   ]
  }
 ],
 "metadata": {
  "language_info": {
   "name": "python"
  },
  "orig_nbformat": 4
 },
 "nbformat": 4,
 "nbformat_minor": 2
}
