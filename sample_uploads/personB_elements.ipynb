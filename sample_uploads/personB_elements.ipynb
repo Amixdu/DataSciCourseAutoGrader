{
 "cells": [
  {
   "cell_type": "code",
   "execution_count": null,
   "metadata": {},
   "outputs": [],
   "source": [
    "def elements(tuples): \n",
    "    for i in range(len(tuples)): \n",
    "        if len(tuples[i]) > 3: \n",
    "            print(tuples[i]) "
   ]
  }
 ],
 "metadata": {
  "language_info": {
   "name": "python"
  },
  "orig_nbformat": 4
 },
 "nbformat": 4,
 "nbformat_minor": 2
}
