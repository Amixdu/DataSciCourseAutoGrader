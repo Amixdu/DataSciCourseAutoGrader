{
 "cells": [
  {
   "cell_type": "code",
   "execution_count": null,
   "metadata": {},
   "outputs": [],
   "source": [
    "def even_num():\n",
    "    x = 0\n",
    "    while x < 30:\n",
    "        if x % 3 == 0:\n",
    "            print(x)\n",
    "            x += 2\n",
    "        x += 2\n"
   ]
  }
 ],
 "metadata": {
  "language_info": {
   "name": "python"
  },
  "orig_nbformat": 4
 },
 "nbformat": 4,
 "nbformat_minor": 2
}
