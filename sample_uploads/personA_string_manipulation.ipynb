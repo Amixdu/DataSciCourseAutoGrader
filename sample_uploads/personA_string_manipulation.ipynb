{
 "cells": [
  {
   "cell_type": "code",
   "execution_count": null,
   "metadata": {},
   "outputs": [],
   "source": [
    "def string_manipulation(string):  \n",
    "    c = string[:3] \n",
    "    return c "
   ]
  }
 ],
 "metadata": {
  "language_info": {
   "name": "python"
  },
  "orig_nbformat": 4
 },
 "nbformat": 4,
 "nbformat_minor": 2
}
