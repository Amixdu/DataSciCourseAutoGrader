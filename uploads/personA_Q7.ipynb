{
 "cells": [
  {
   "cell_type": "code",
   "execution_count": null,
   "metadata": {},
   "outputs": [],
   "source": [
    "def loops(x):\n",
    "    i = 0\n",
    "    while i < x:\n",
    "        if i % 4 == 0:\n",
    "            print (i)\n",
    "            i += 1\n",
    "        i += 1"
   ]
  }
 ],
 "metadata": {
  "language_info": {
   "name": "python"
  },
  "orig_nbformat": 4
 },
 "nbformat": 4,
 "nbformat_minor": 2
}
