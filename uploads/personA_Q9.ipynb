{
 "cells": [
  {
   "cell_type": "code",
   "execution_count": null,
   "metadata": {},
   "outputs": [],
   "source": [
    "def string_manipulation():\n",
    "    exercise = \"The quick brown fox jumps over the lazy dog\"\n",
    "    a = exercise [4:9]\n",
    "    b = exercise [16:19]\n",
    "    c = a + \" \" + b\n",
    "    return c"
   ]
  }
 ],
 "metadata": {
  "language_info": {
   "name": "python"
  },
  "orig_nbformat": 4
 },
 "nbformat": 4,
 "nbformat_minor": 2
}
